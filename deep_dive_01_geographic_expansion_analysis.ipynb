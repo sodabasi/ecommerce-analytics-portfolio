{
 "cells": [
  {
   "cell_type": "code",
   "execution_count": 3,
   "id": "1d542ca2-1b72-4d17-b19b-5e18fd629cdd",
   "metadata": {},
   "outputs": [
    {
     "name": "stdout",
     "output_type": "stream",
     "text": [
      "🌍 GEOGRAPHIC EXPANSION ANALYSIS\n",
      "============================================================\n",
      "📊 Loading sample data...\n",
      "✅ Data loaded: 10000 transactions, 2500 customers\n",
      "\n",
      "🚀 Starting geographic expansion analysis...\n",
      "🔍 Analyzing current market performance...\n",
      "📊 Current Market Performance:\n",
      "       region  total_revenue  avg_order_value  total_orders  unique_customers  avg_rating  total_items  revenue_per_customer  orders_per_customer  market_share  maturity_score\n",
      "North America       90984.88            23.04          3949              1981        3.71         6334             45.928763             1.993438     39.804340        0.922600\n",
      "       Europe       70094.28            23.06          3040              1744        3.71         4920             40.191674             1.743119     30.665057        0.834964\n",
      "         Asia       56644.90            22.42          2526              1619        3.70         4039             34.987585             1.560222     24.781182        0.761516\n",
      "       Others       10856.24            22.38           485               447        3.81          757             24.286890             1.085011      4.749421        0.603405\n",
      "\n",
      "🎯 Identifying expansion opportunities...\n",
      "\n",
      "🎯 EXPANSION OPPORTUNITY RANKING:\n",
      "        market  overall_score  attractiveness_score  feasibility_score  estimated_investment  potential_annual_revenue  annual_roi                       recommendation\n",
      "Eastern Europe        0.61100               0.62500             0.5900              705000.0                 3971500.0  463.333333 Medium Priority - Consider Expansion\n",
      "Southeast Asia        0.60025               0.70375             0.4450              777500.0                 7203000.0  826.430868 Medium Priority - Consider Expansion\n",
      " Latin America        0.57425               0.68375             0.4100              795000.0                 5455375.0  586.210692        Low Priority - Monitor Market\n",
      "   Middle East        0.56100               0.63500             0.4500              775000.0                 2524500.0  225.741935        Low Priority - Monitor Market\n",
      "        Africa        0.44790               0.49150             0.3825              808750.0                 1567650.0   93.836167          Not Recommended - High Risk\n",
      "\n",
      "🗓️ Creating expansion roadmap...\n",
      "\n",
      "📋 EXPANSION ROADMAP:\n",
      "        market                             priority start_date  duration_months  investment_required  expected_roi                                   key_challenges                         success_metrics\n",
      "Eastern Europe Medium Priority - Consider Expansion    2026-07               18             705000.0    463.333333                           Operational complexity Year 1: $2.0M revenue, 39,715 customers\n",
      "Southeast Asia Medium Priority - Consider Expansion    2027-01               18             777500.0    826.430868 Operational complexity; High capital requirement Year 1: $3.6M revenue, 72,029 customers\n",
      " Latin America        Low Priority - Monitor Market    2028-07               24             795000.0    586.210692 Operational complexity; High capital requirement Year 1: $2.7M revenue, 54,553 customers\n",
      "   Middle East        Low Priority - Monitor Market    2029-01               24             775000.0    225.741935 Operational complexity; High capital requirement Year 1: $1.3M revenue, 25,244 customers\n",
      "\n",
      "🏆 Competitive landscape analysis...\n",
      "\n",
      "🎯 COMPETITIVE ANALYSIS:\n",
      "        market  major_competitors                   market_leaders competitive_intensity differentiation_opportunity                       entry_strategy\n",
      "Eastern Europe                  4      Allegro (30%); Amazon (25%)                  High             Product Quality            Niche focus + Partnership\n",
      "Southeast Asia                  4       Shopee (35%); Lazada (25%)                  High             Product Quality            Niche focus + Partnership\n",
      " Latin America                  3 MercadoLibre (45%); Amazon (20%)                Medium             Product Quality Direct competition + Differentiation\n",
      "   Middle East                  4         Noon (25%); Amazon (30%)                  High            Customer Service            Niche focus + Partnership\n",
      "        Africa                  3 Jumia (40%); Local Players (35%)                Medium            Customer Service Direct competition + Differentiation\n",
      "\n",
      "📊 Creating expansion analysis visualizations...\n"
     ]
    },
    {
     "data": {
      "application/vnd.plotly.v1+json": {
       "config": {
        "plotlyServerURL": "https://plot.ly"
       },
       "data": [
        {
         "hovertemplate": "<b>%{text}</b><br>Feasibility: %{x:.2f}<br>Attractiveness: %{y:.2f}<br>ROI: %{marker.color:.1f}%<extra></extra>",
         "marker": {
          "color": [
           463.33333333333326,
           826.4308681672023,
           586.2106918238992,
           225.74193548387092,
           93.83616692426583
          ],
          "colorbar": {
           "title": {
            "text": "Annual ROI %"
           }
          },
          "colorscale": [
           [
            0,
            "#440154"
           ],
           [
            0.1111111111111111,
            "#482878"
           ],
           [
            0.2222222222222222,
            "#3e4989"
           ],
           [
            0.3333333333333333,
            "#31688e"
           ],
           [
            0.4444444444444444,
            "#26828e"
           ],
           [
            0.5555555555555556,
            "#1f9e89"
           ],
           [
            0.6666666666666666,
            "#35b779"
           ],
           [
            0.7777777777777778,
            "#6ece58"
           ],
           [
            0.8888888888888888,
            "#b5de2b"
           ],
           [
            1,
            "#fde725"
           ]
          ],
          "showscale": true,
          "size": [
           30.55,
           30.012499999999996,
           28.712499999999995,
           28.049999999999997,
           22.395
          ]
         },
         "mode": "markers+text",
         "name": "Markets",
         "text": [
          "Eastern Europe",
          "Southeast Asia",
          "Latin America",
          "Middle East",
          "Africa"
         ],
         "textposition": "top center",
         "type": "scatter",
         "x": [
          0.59,
          0.44499999999999995,
          0.41,
          0.44999999999999996,
          0.3825
         ],
         "xaxis": "x",
         "y": [
          0.6249999999999999,
          0.7037499999999999,
          0.68375,
          0.635,
          0.49149999999999994
         ],
         "yaxis": "y"
        },
        {
         "hovertemplate": "<b>%{text}</b><br>Investment: $%{x:,.0f}<br>Annual ROI: %{y:.1f}%<extra></extra>",
         "marker": {
          "color": "red",
          "opacity": 0.7,
          "size": 15
         },
         "mode": "markers+text",
         "name": "Investment Analysis",
         "text": [
          "Eastern Europe",
          "Southeast Asia",
          "Latin America",
          "Middle East",
          "Africa"
         ],
         "textposition": "top center",
         "type": "scatter",
         "x": [
          705000.0000000001,
          777500.0000000001,
          795000,
          775000,
          808750
         ],
         "xaxis": "x2",
         "y": [
          463.33333333333326,
          826.4308681672023,
          586.2106918238992,
          225.74193548387092,
          93.83616692426583
         ],
         "yaxis": "y2"
        },
        {
         "hovertemplate": "<b>%{text}</b><br>Market Size: $%{x:.0f}B<br>Growth Rate: %{y:.1%}<br>Population: %{marker.size}M<extra></extra>",
         "marker": {
          "color": "blue",
          "opacity": 0.6,
          "size": [
           5.9,
           13.7,
           13,
           8.22,
           26.8
          ]
         },
         "mode": "markers+text",
         "name": "Market Dynamics",
         "text": [
          "Eastern Europe",
          "Southeast Asia",
          "Latin America",
          "Middle East",
          "Africa"
         ],
         "textposition": "top center",
         "type": "scatter",
         "x": [
          65,
          120,
          95,
          45,
          35
         ],
         "xaxis": "x3",
         "y": [
          0.18,
          0.25,
          0.22,
          0.28,
          0.35
         ],
         "yaxis": "y3"
        },
        {
         "hovertemplate": "<b>%{y}</b><br>Priority Score: %{x:.2f}<extra></extra>",
         "marker": {
          "color": [
           0.44789999999999996,
           0.5609999999999999,
           0.5742499999999999,
           0.60025,
           0.611
          ],
          "colorscale": [
           [
            0,
            "rgb(165,0,38)"
           ],
           [
            0.1,
            "rgb(215,48,39)"
           ],
           [
            0.2,
            "rgb(244,109,67)"
           ],
           [
            0.3,
            "rgb(253,174,97)"
           ],
           [
            0.4,
            "rgb(254,224,139)"
           ],
           [
            0.5,
            "rgb(255,255,191)"
           ],
           [
            0.6,
            "rgb(217,239,139)"
           ],
           [
            0.7,
            "rgb(166,217,106)"
           ],
           [
            0.8,
            "rgb(102,189,99)"
           ],
           [
            0.9,
            "rgb(26,152,80)"
           ],
           [
            1,
            "rgb(0,104,55)"
           ]
          ]
         },
         "name": "Priority Score",
         "orientation": "h",
         "type": "bar",
         "x": [
          0.44789999999999996,
          0.5609999999999999,
          0.5742499999999999,
          0.60025,
          0.611
         ],
         "xaxis": "x4",
         "y": [
          "Africa",
          "Middle East",
          "Latin America",
          "Southeast Asia",
          "Eastern Europe"
         ],
         "yaxis": "y4"
        }
       ],
       "layout": {
        "annotations": [
         {
          "font": {
           "size": 16
          },
          "showarrow": false,
          "text": "Market Opportunity Matrix",
          "x": 0.225,
          "xanchor": "center",
          "xref": "paper",
          "y": 1,
          "yanchor": "bottom",
          "yref": "paper"
         },
         {
          "font": {
           "size": 16
          },
          "showarrow": false,
          "text": "Investment vs ROI Analysis",
          "x": 0.775,
          "xanchor": "center",
          "xref": "paper",
          "y": 1,
          "yanchor": "bottom",
          "yref": "paper"
         },
         {
          "font": {
           "size": 16
          },
          "showarrow": false,
          "text": "Market Size vs Growth Rate",
          "x": 0.225,
          "xanchor": "center",
          "xref": "paper",
          "y": 0.375,
          "yanchor": "bottom",
          "yref": "paper"
         },
         {
          "font": {
           "size": 16
          },
          "showarrow": false,
          "text": "Expansion Timeline",
          "x": 0.775,
          "xanchor": "center",
          "xref": "paper",
          "y": 0.375,
          "yanchor": "bottom",
          "yref": "paper"
         }
        ],
        "height": 800,
        "showlegend": false,
        "template": {
         "data": {
          "bar": [
           {
            "error_x": {
             "color": "#2a3f5f"
            },
            "error_y": {
             "color": "#2a3f5f"
            },
            "marker": {
             "line": {
              "color": "#E5ECF6",
              "width": 0.5
             },
             "pattern": {
              "fillmode": "overlay",
              "size": 10,
              "solidity": 0.2
             }
            },
            "type": "bar"
           }
          ],
          "barpolar": [
           {
            "marker": {
             "line": {
              "color": "#E5ECF6",
              "width": 0.5
             },
             "pattern": {
              "fillmode": "overlay",
              "size": 10,
              "solidity": 0.2
             }
            },
            "type": "barpolar"
           }
          ],
          "carpet": [
           {
            "aaxis": {
             "endlinecolor": "#2a3f5f",
             "gridcolor": "white",
             "linecolor": "white",
             "minorgridcolor": "white",
             "startlinecolor": "#2a3f5f"
            },
            "baxis": {
             "endlinecolor": "#2a3f5f",
             "gridcolor": "white",
             "linecolor": "white",
             "minorgridcolor": "white",
             "startlinecolor": "#2a3f5f"
            },
            "type": "carpet"
           }
          ],
          "choropleth": [
           {
            "colorbar": {
             "outlinewidth": 0,
             "ticks": ""
            },
            "type": "choropleth"
           }
          ],
          "contour": [
           {
            "colorbar": {
             "outlinewidth": 0,
             "ticks": ""
            },
            "colorscale": [
             [
              0,
              "#0d0887"
             ],
             [
              0.1111111111111111,
              "#46039f"
             ],
             [
              0.2222222222222222,
              "#7201a8"
             ],
             [
              0.3333333333333333,
              "#9c179e"
             ],
             [
              0.4444444444444444,
              "#bd3786"
             ],
             [
              0.5555555555555556,
              "#d8576b"
             ],
             [
              0.6666666666666666,
              "#ed7953"
             ],
             [
              0.7777777777777778,
              "#fb9f3a"
             ],
             [
              0.8888888888888888,
              "#fdca26"
             ],
             [
              1,
              "#f0f921"
             ]
            ],
            "type": "contour"
           }
          ],
          "contourcarpet": [
           {
            "colorbar": {
             "outlinewidth": 0,
             "ticks": ""
            },
            "type": "contourcarpet"
           }
          ],
          "heatmap": [
           {
            "colorbar": {
             "outlinewidth": 0,
             "ticks": ""
            },
            "colorscale": [
             [
              0,
              "#0d0887"
             ],
             [
              0.1111111111111111,
              "#46039f"
             ],
             [
              0.2222222222222222,
              "#7201a8"
             ],
             [
              0.3333333333333333,
              "#9c179e"
             ],
             [
              0.4444444444444444,
              "#bd3786"
             ],
             [
              0.5555555555555556,
              "#d8576b"
             ],
             [
              0.6666666666666666,
              "#ed7953"
             ],
             [
              0.7777777777777778,
              "#fb9f3a"
             ],
             [
              0.8888888888888888,
              "#fdca26"
             ],
             [
              1,
              "#f0f921"
             ]
            ],
            "type": "heatmap"
           }
          ],
          "heatmapgl": [
           {
            "colorbar": {
             "outlinewidth": 0,
             "ticks": ""
            },
            "colorscale": [
             [
              0,
              "#0d0887"
             ],
             [
              0.1111111111111111,
              "#46039f"
             ],
             [
              0.2222222222222222,
              "#7201a8"
             ],
             [
              0.3333333333333333,
              "#9c179e"
             ],
             [
              0.4444444444444444,
              "#bd3786"
             ],
             [
              0.5555555555555556,
              "#d8576b"
             ],
             [
              0.6666666666666666,
              "#ed7953"
             ],
             [
              0.7777777777777778,
              "#fb9f3a"
             ],
             [
              0.8888888888888888,
              "#fdca26"
             ],
             [
              1,
              "#f0f921"
             ]
            ],
            "type": "heatmapgl"
           }
          ],
          "histogram": [
           {
            "marker": {
             "pattern": {
              "fillmode": "overlay",
              "size": 10,
              "solidity": 0.2
             }
            },
            "type": "histogram"
           }
          ],
          "histogram2d": [
           {
            "colorbar": {
             "outlinewidth": 0,
             "ticks": ""
            },
            "colorscale": [
             [
              0,
              "#0d0887"
             ],
             [
              0.1111111111111111,
              "#46039f"
             ],
             [
              0.2222222222222222,
              "#7201a8"
             ],
             [
              0.3333333333333333,
              "#9c179e"
             ],
             [
              0.4444444444444444,
              "#bd3786"
             ],
             [
              0.5555555555555556,
              "#d8576b"
             ],
             [
              0.6666666666666666,
              "#ed7953"
             ],
             [
              0.7777777777777778,
              "#fb9f3a"
             ],
             [
              0.8888888888888888,
              "#fdca26"
             ],
             [
              1,
              "#f0f921"
             ]
            ],
            "type": "histogram2d"
           }
          ],
          "histogram2dcontour": [
           {
            "colorbar": {
             "outlinewidth": 0,
             "ticks": ""
            },
            "colorscale": [
             [
              0,
              "#0d0887"
             ],
             [
              0.1111111111111111,
              "#46039f"
             ],
             [
              0.2222222222222222,
              "#7201a8"
             ],
             [
              0.3333333333333333,
              "#9c179e"
             ],
             [
              0.4444444444444444,
              "#bd3786"
             ],
             [
              0.5555555555555556,
              "#d8576b"
             ],
             [
              0.6666666666666666,
              "#ed7953"
             ],
             [
              0.7777777777777778,
              "#fb9f3a"
             ],
             [
              0.8888888888888888,
              "#fdca26"
             ],
             [
              1,
              "#f0f921"
             ]
            ],
            "type": "histogram2dcontour"
           }
          ],
          "mesh3d": [
           {
            "colorbar": {
             "outlinewidth": 0,
             "ticks": ""
            },
            "type": "mesh3d"
           }
          ],
          "parcoords": [
           {
            "line": {
             "colorbar": {
              "outlinewidth": 0,
              "ticks": ""
             }
            },
            "type": "parcoords"
           }
          ],
          "pie": [
           {
            "automargin": true,
            "type": "pie"
           }
          ],
          "scatter": [
           {
            "fillpattern": {
             "fillmode": "overlay",
             "size": 10,
             "solidity": 0.2
            },
            "type": "scatter"
           }
          ],
          "scatter3d": [
           {
            "line": {
             "colorbar": {
              "outlinewidth": 0,
              "ticks": ""
             }
            },
            "marker": {
             "colorbar": {
              "outlinewidth": 0,
              "ticks": ""
             }
            },
            "type": "scatter3d"
           }
          ],
          "scattercarpet": [
           {
            "marker": {
             "colorbar": {
              "outlinewidth": 0,
              "ticks": ""
             }
            },
            "type": "scattercarpet"
           }
          ],
          "scattergeo": [
           {
            "marker": {
             "colorbar": {
              "outlinewidth": 0,
              "ticks": ""
             }
            },
            "type": "scattergeo"
           }
          ],
          "scattergl": [
           {
            "marker": {
             "colorbar": {
              "outlinewidth": 0,
              "ticks": ""
             }
            },
            "type": "scattergl"
           }
          ],
          "scattermapbox": [
           {
            "marker": {
             "colorbar": {
              "outlinewidth": 0,
              "ticks": ""
             }
            },
            "type": "scattermapbox"
           }
          ],
          "scatterpolar": [
           {
            "marker": {
             "colorbar": {
              "outlinewidth": 0,
              "ticks": ""
             }
            },
            "type": "scatterpolar"
           }
          ],
          "scatterpolargl": [
           {
            "marker": {
             "colorbar": {
              "outlinewidth": 0,
              "ticks": ""
             }
            },
            "type": "scatterpolargl"
           }
          ],
          "scatterternary": [
           {
            "marker": {
             "colorbar": {
              "outlinewidth": 0,
              "ticks": ""
             }
            },
            "type": "scatterternary"
           }
          ],
          "surface": [
           {
            "colorbar": {
             "outlinewidth": 0,
             "ticks": ""
            },
            "colorscale": [
             [
              0,
              "#0d0887"
             ],
             [
              0.1111111111111111,
              "#46039f"
             ],
             [
              0.2222222222222222,
              "#7201a8"
             ],
             [
              0.3333333333333333,
              "#9c179e"
             ],
             [
              0.4444444444444444,
              "#bd3786"
             ],
             [
              0.5555555555555556,
              "#d8576b"
             ],
             [
              0.6666666666666666,
              "#ed7953"
             ],
             [
              0.7777777777777778,
              "#fb9f3a"
             ],
             [
              0.8888888888888888,
              "#fdca26"
             ],
             [
              1,
              "#f0f921"
             ]
            ],
            "type": "surface"
           }
          ],
          "table": [
           {
            "cells": {
             "fill": {
              "color": "#EBF0F8"
             },
             "line": {
              "color": "white"
             }
            },
            "header": {
             "fill": {
              "color": "#C8D4E3"
             },
             "line": {
              "color": "white"
             }
            },
            "type": "table"
           }
          ]
         },
         "layout": {
          "annotationdefaults": {
           "arrowcolor": "#2a3f5f",
           "arrowhead": 0,
           "arrowwidth": 1
          },
          "autotypenumbers": "strict",
          "coloraxis": {
           "colorbar": {
            "outlinewidth": 0,
            "ticks": ""
           }
          },
          "colorscale": {
           "diverging": [
            [
             0,
             "#8e0152"
            ],
            [
             0.1,
             "#c51b7d"
            ],
            [
             0.2,
             "#de77ae"
            ],
            [
             0.3,
             "#f1b6da"
            ],
            [
             0.4,
             "#fde0ef"
            ],
            [
             0.5,
             "#f7f7f7"
            ],
            [
             0.6,
             "#e6f5d0"
            ],
            [
             0.7,
             "#b8e186"
            ],
            [
             0.8,
             "#7fbc41"
            ],
            [
             0.9,
             "#4d9221"
            ],
            [
             1,
             "#276419"
            ]
           ],
           "sequential": [
            [
             0,
             "#0d0887"
            ],
            [
             0.1111111111111111,
             "#46039f"
            ],
            [
             0.2222222222222222,
             "#7201a8"
            ],
            [
             0.3333333333333333,
             "#9c179e"
            ],
            [
             0.4444444444444444,
             "#bd3786"
            ],
            [
             0.5555555555555556,
             "#d8576b"
            ],
            [
             0.6666666666666666,
             "#ed7953"
            ],
            [
             0.7777777777777778,
             "#fb9f3a"
            ],
            [
             0.8888888888888888,
             "#fdca26"
            ],
            [
             1,
             "#f0f921"
            ]
           ],
           "sequentialminus": [
            [
             0,
             "#0d0887"
            ],
            [
             0.1111111111111111,
             "#46039f"
            ],
            [
             0.2222222222222222,
             "#7201a8"
            ],
            [
             0.3333333333333333,
             "#9c179e"
            ],
            [
             0.4444444444444444,
             "#bd3786"
            ],
            [
             0.5555555555555556,
             "#d8576b"
            ],
            [
             0.6666666666666666,
             "#ed7953"
            ],
            [
             0.7777777777777778,
             "#fb9f3a"
            ],
            [
             0.8888888888888888,
             "#fdca26"
            ],
            [
             1,
             "#f0f921"
            ]
           ]
          },
          "colorway": [
           "#636efa",
           "#EF553B",
           "#00cc96",
           "#ab63fa",
           "#FFA15A",
           "#19d3f3",
           "#FF6692",
           "#B6E880",
           "#FF97FF",
           "#FECB52"
          ],
          "font": {
           "color": "#2a3f5f"
          },
          "geo": {
           "bgcolor": "white",
           "lakecolor": "white",
           "landcolor": "#E5ECF6",
           "showlakes": true,
           "showland": true,
           "subunitcolor": "white"
          },
          "hoverlabel": {
           "align": "left"
          },
          "hovermode": "closest",
          "mapbox": {
           "style": "light"
          },
          "paper_bgcolor": "white",
          "plot_bgcolor": "#E5ECF6",
          "polar": {
           "angularaxis": {
            "gridcolor": "white",
            "linecolor": "white",
            "ticks": ""
           },
           "bgcolor": "#E5ECF6",
           "radialaxis": {
            "gridcolor": "white",
            "linecolor": "white",
            "ticks": ""
           }
          },
          "scene": {
           "xaxis": {
            "backgroundcolor": "#E5ECF6",
            "gridcolor": "white",
            "gridwidth": 2,
            "linecolor": "white",
            "showbackground": true,
            "ticks": "",
            "zerolinecolor": "white"
           },
           "yaxis": {
            "backgroundcolor": "#E5ECF6",
            "gridcolor": "white",
            "gridwidth": 2,
            "linecolor": "white",
            "showbackground": true,
            "ticks": "",
            "zerolinecolor": "white"
           },
           "zaxis": {
            "backgroundcolor": "#E5ECF6",
            "gridcolor": "white",
            "gridwidth": 2,
            "linecolor": "white",
            "showbackground": true,
            "ticks": "",
            "zerolinecolor": "white"
           }
          },
          "shapedefaults": {
           "line": {
            "color": "#2a3f5f"
           }
          },
          "ternary": {
           "aaxis": {
            "gridcolor": "white",
            "linecolor": "white",
            "ticks": ""
           },
           "baxis": {
            "gridcolor": "white",
            "linecolor": "white",
            "ticks": ""
           },
           "bgcolor": "#E5ECF6",
           "caxis": {
            "gridcolor": "white",
            "linecolor": "white",
            "ticks": ""
           }
          },
          "title": {
           "x": 0.05
          },
          "xaxis": {
           "automargin": true,
           "gridcolor": "white",
           "linecolor": "white",
           "ticks": "",
           "title": {
            "standoff": 15
           },
           "zerolinecolor": "white",
           "zerolinewidth": 2
          },
          "yaxis": {
           "automargin": true,
           "gridcolor": "white",
           "linecolor": "white",
           "ticks": "",
           "title": {
            "standoff": 15
           },
           "zerolinecolor": "white",
           "zerolinewidth": 2
          }
         }
        },
        "title": {
         "text": "🌍 Geographic Expansion Analysis Dashboard",
         "x": 0.5
        },
        "xaxis": {
         "anchor": "y",
         "domain": [
          0,
          0.45
         ],
         "title": {
          "text": "Feasibility Score"
         }
        },
        "xaxis2": {
         "anchor": "y2",
         "domain": [
          0.55,
          1
         ],
         "title": {
          "text": "Investment Required ($)"
         }
        },
        "xaxis3": {
         "anchor": "y3",
         "domain": [
          0,
          0.45
         ],
         "title": {
          "text": "Market Size (Billions $)"
         }
        },
        "xaxis4": {
         "anchor": "y4",
         "domain": [
          0.55,
          1
         ],
         "title": {
          "text": "Priority Score"
         }
        },
        "yaxis": {
         "anchor": "x",
         "domain": [
          0.625,
          1
         ],
         "title": {
          "text": "Attractiveness Score"
         }
        },
        "yaxis2": {
         "anchor": "x2",
         "domain": [
          0.625,
          1
         ],
         "title": {
          "text": "Annual ROI (%)"
         }
        },
        "yaxis3": {
         "anchor": "x3",
         "domain": [
          0,
          0.375
         ],
         "title": {
          "text": "E-commerce Growth Rate"
         }
        },
        "yaxis4": {
         "anchor": "x4",
         "domain": [
          0,
          0.375
         ]
        }
       }
      },
      "image/png": "[encoded data removed]",
      "text/html": [
       "<div>                            <div id=\"3e5db417-ad9f-44f6-a1d4-25e72160106c\" class=\"plotly-graph-div\" style=\"height:800px; width:100%;\"></div>            <script type=\"text/javascript\">                require([\"plotly\"], function(Plotly) {                    window.PLOTLYENV=window.PLOTLYENV || {};                                    if (document.getElementById(\"3e5db417-ad9f-44f6-a1d4-25e72160106c\")) {                    Plotly.newPlot(                        \"3e5db417-ad9f-44f6-a1d4-25e72160106c\",                        [{\"hovertemplate\":\"\\u003cb\\u003e%{text}\\u003c\\u002fb\\u003e\\u003cbr\\u003eFeasibility: %{x:.2f}\\u003cbr\\u003eAttractiveness: %{y:.2f}\\u003cbr\\u003eROI: %{marker.color:.1f}%\\u003cextra\\u003e\\u003c\\u002fextra\\u003e\",\"marker\":{\"color\":[463.33333333333326,826.4308681672023,586.2106918238992,225.74193548387092,93.83616692426583],\"colorbar\":{\"title\":{\"text\":\"Annual ROI %\"}},\"colorscale\":[[0.0,\"#440154\"],[0.1111111111111111,\"#482878\"],[0.2222222222222222,\"#3e4989\"],[0.3333333333333333,\"#31688e\"],[0.4444444444444444,\"#26828e\"],[0.5555555555555556,\"#1f9e89\"],[0.6666666666666666,\"#35b779\"],[0.7777777777777778,\"#6ece58\"],[0.8888888888888888,\"#b5de2b\"],[1.0,\"#fde725\"]],\"showscale\":true,\"size\":[30.55,30.012499999999996,28.712499999999995,28.049999999999997,22.395]},\"mode\":\"markers+text\",\"name\":\"Markets\",\"text\":[\"Eastern Europe\",\"Southeast Asia\",\"Latin America\",\"Middle East\",\"Africa\"],\"textposition\":\"top center\",\"x\":[0.59,0.44499999999999995,0.41,0.44999999999999996,0.3825],\"y\":[0.6249999999999999,0.7037499999999999,0.68375,0.635,0.49149999999999994],\"type\":\"scatter\",\"xaxis\":\"x\",\"yaxis\":\"y\"},{\"hovertemplate\":\"\\u003cb\\u003e%{text}\\u003c\\u002fb\\u003e\\u003cbr\\u003eInvestment: $%{x:,.0f}\\u003cbr\\u003eAnnual ROI: %{y:.1f}%\\u003cextra\\u003e\\u003c\\u002fextra\\u003e\",\"marker\":{\"color\":\"red\",\"opacity\":0.7,\"size\":15},\"mode\":\"markers+text\",\"name\":\"Investment Analysis\",\"text\":[\"Eastern Europe\",\"Southeast Asia\",\"Latin America\",\"Middle East\",\"Africa\"],\"textposition\":\"top center\",\"x\":[705000.0000000001,777500.0000000001,795000.0,775000.0,808750.0],\"y\":[463.33333333333326,826.4308681672023,586.2106918238992,225.74193548387092,93.83616692426583],\"type\":\"scatter\",\"xaxis\":\"x2\",\"yaxis\":\"y2\"},{\"hovertemplate\":\"\\u003cb\\u003e%{text}\\u003c\\u002fb\\u003e\\u003cbr\\u003eMarket Size: $%{x:.0f}B\\u003cbr\\u003eGrowth Rate: %{y:.1%}\\u003cbr\\u003ePopulation: %{marker.size}M\\u003cextra\\u003e\\u003c\\u002fextra\\u003e\",\"marker\":{\"color\":\"blue\",\"opacity\":0.6,\"size\":[5.9,13.7,13.0,8.22,26.8]},\"mode\":\"markers+text\",\"name\":\"Market Dynamics\",\"text\":[\"Eastern Europe\",\"Southeast Asia\",\"Latin America\",\"Middle East\",\"Africa\"],\"textposition\":\"top center\",\"x\":[65.0,120.0,95.0,45.0,35.0],\"y\":[0.18,0.25,0.22,0.28,0.35],\"type\":\"scatter\",\"xaxis\":\"x3\",\"yaxis\":\"y3\"},{\"hovertemplate\":\"\\u003cb\\u003e%{y}\\u003c\\u002fb\\u003e\\u003cbr\\u003ePriority Score: %{x:.2f}\\u003cextra\\u003e\\u003c\\u002fextra\\u003e\",\"marker\":{\"color\":[0.44789999999999996,0.5609999999999999,0.5742499999999999,0.60025,0.611],\"colorscale\":[[0.0,\"rgb(165,0,38)\"],[0.1,\"rgb(215,48,39)\"],[0.2,\"rgb(244,109,67)\"],[0.3,\"rgb(253,174,97)\"],[0.4,\"rgb(254,224,139)\"],[0.5,\"rgb(255,255,191)\"],[0.6,\"rgb(217,239,139)\"],[0.7,\"rgb(166,217,106)\"],[0.8,\"rgb(102,189,99)\"],[0.9,\"rgb(26,152,80)\"],[1.0,\"rgb(0,104,55)\"]]},\"name\":\"Priority Score\",\"orientation\":\"h\",\"x\":[0.44789999999999996,0.5609999999999999,0.5742499999999999,0.60025,0.611],\"y\":[\"Africa\",\"Middle East\",\"Latin America\",\"Southeast Asia\",\"Eastern Europe\"],\"type\":\"bar\",\"xaxis\":\"x4\",\"yaxis\":\"y4\"}],                        {\"template\":{\"data\":{\"histogram2dcontour\":[{\"type\":\"histogram2dcontour\",\"colorbar\":{\"outlinewidth\":0,\"ticks\":\"\"},\"colorscale\":[[0.0,\"#0d0887\"],[0.1111111111111111,\"#46039f\"],[0.2222222222222222,\"#7201a8\"],[0.3333333333333333,\"#9c179e\"],[0.4444444444444444,\"#bd3786\"],[0.5555555555555556,\"#d8576b\"],[0.6666666666666666,\"#ed7953\"],[0.7777777777777778,\"#fb9f3a\"],[0.8888888888888888,\"#fdca26\"],[1.0,\"#f0f921\"]]}],\"choropleth\":[{\"type\":\"choropleth\",\"colorbar\":{\"outlinewidth\":0,\"ticks\":\"\"}}],\"histogram2d\":[{\"type\":\"histogram2d\",\"colorbar\":{\"outlinewidth\":0,\"ticks\":\"\"},\"colorscale\":[[0.0,\"#0d0887\"],[0.1111111111111111,\"#46039f\"],[0.2222222222222222,\"#7201a8\"],[0.3333333333333333,\"#9c179e\"],[0.4444444444444444,\"#bd3786\"],[0.5555555555555556,\"#d8576b\"],[0.6666666666666666,\"#ed7953\"],[0.7777777777777778,\"#fb9f3a\"],[0.8888888888888888,\"#fdca26\"],[1.0,\"#f0f921\"]]}],\"heatmap\":[{\"type\":\"heatmap\",\"colorbar\":{\"outlinewidth\":0,\"ticks\":\"\"},\"colorscale\":[[0.0,\"#0d0887\"],[0.1111111111111111,\"#46039f\"],[0.2222222222222222,\"#7201a8\"],[0.3333333333333333,\"#9c179e\"],[0.4444444444444444,\"#bd3786\"],[0.5555555555555556,\"#d8576b\"],[0.6666666666666666,\"#ed7953\"],[0.7777777777777778,\"#fb9f3a\"],[0.8888888888888888,\"#fdca26\"],[1.0,\"#f0f921\"]]}],\"heatmapgl\":[{\"type\":\"heatmapgl\",\"colorbar\":{\"outlinewidth\":0,\"ticks\":\"\"},\"colorscale\":[[0.0,\"#0d0887\"],[0.1111111111111111,\"#46039f\"],[0.2222222222222222,\"#7201a8\"],[0.3333333333333333,\"#9c179e\"],[0.4444444444444444,\"#bd3786\"],[0.5555555555555556,\"#d8576b\"],[0.6666666666666666,\"#ed7953\"],[0.7777777777777778,\"#fb9f3a\"],[0.8888888888888888,\"#fdca26\"],[1.0,\"#f0f921\"]]}],\"contourcarpet\":[{\"type\":\"contourcarpet\",\"colorbar\":{\"outlinewidth\":0,\"ticks\":\"\"}}],\"contour\":[{\"type\":\"contour\",\"colorbar\":{\"outlinewidth\":0,\"ticks\":\"\"},\"colorscale\":[[0.0,\"#0d0887\"],[0.1111111111111111,\"#46039f\"],[0.2222222222222222,\"#7201a8\"],[0.3333333333333333,\"#9c179e\"],[0.4444444444444444,\"#bd3786\"],[0.5555555555555556,\"#d8576b\"],[0.6666666666666666,\"#ed7953\"],[0.7777777777777778,\"#fb9f3a\"],[0.8888888888888888,\"#fdca26\"],[1.0,\"#f0f921\"]]}],\"surface\":[{\"type\":\"surface\",\"colorbar\":{\"outlinewidth\":0,\"ticks\":\"\"},\"colorscale\":[[0.0,\"#0d0887\"],[0.1111111111111111,\"#46039f\"],[0.2222222222222222,\"#7201a8\"],[0.3333333333333333,\"#9c179e\"],[0.4444444444444444,\"#bd3786\"],[0.5555555555555556,\"#d8576b\"],[0.6666666666666666,\"#ed7953\"],[0.7777777777777778,\"#fb9f3a\"],[0.8888888888888888,\"#fdca26\"],[1.0,\"#f0f921\"]]}],\"mesh3d\":[{\"type\":\"mesh3d\",\"colorbar\":{\"outlinewidth\":0,\"ticks\":\"\"}}],\"scatter\":[{\"fillpattern\":{\"fillmode\":\"overlay\",\"size\":10,\"solidity\":0.2},\"type\":\"scatter\"}],\"parcoords\":[{\"type\":\"parcoords\",\"line\":{\"colorbar\":{\"outlinewidth\":0,\"ticks\":\"\"}}}],\"scatterpolargl\":[{\"type\":\"scatterpolargl\",\"marker\":{\"colorbar\":{\"outlinewidth\":0,\"ticks\":\"\"}}}],\"bar\":[{\"error_x\":{\"color\":\"#2a3f5f\"},\"error_y\":{\"color\":\"#2a3f5f\"},\"marker\":{\"line\":{\"color\":\"#E5ECF6\",\"width\":0.5},\"pattern\":{\"fillmode\":\"overlay\",\"size\":10,\"solidity\":0.2}},\"type\":\"bar\"}],\"scattergeo\":[{\"type\":\"scattergeo\",\"marker\":{\"colorbar\":{\"outlinewidth\":0,\"ticks\":\"\"}}}],\"scatterpolar\":[{\"type\":\"scatterpolar\",\"marker\":{\"colorbar\":{\"outlinewidth\":0,\"ticks\":\"\"}}}],\"histogram\":[{\"marker\":{\"pattern\":{\"fillmode\":\"overlay\",\"size\":10,\"solidity\":0.2}},\"type\":\"histogram\"}],\"scattergl\":[{\"type\":\"scattergl\",\"marker\":{\"colorbar\":{\"outlinewidth\":0,\"ticks\":\"\"}}}],\"scatter3d\":[{\"type\":\"scatter3d\",\"line\":{\"colorbar\":{\"outlinewidth\":0,\"ticks\":\"\"}},\"marker\":{\"colorbar\":{\"outlinewidth\":0,\"ticks\":\"\"}}}],\"scattermapbox\":[{\"type\":\"scattermapbox\",\"marker\":{\"colorbar\":{\"outlinewidth\":0,\"ticks\":\"\"}}}],\"scatterternary\":[{\"type\":\"scatterternary\",\"marker\":{\"colorbar\":{\"outlinewidth\":0,\"ticks\":\"\"}}}],\"scattercarpet\":[{\"type\":\"scattercarpet\",\"marker\":{\"colorbar\":{\"outlinewidth\":0,\"ticks\":\"\"}}}],\"carpet\":[{\"aaxis\":{\"endlinecolor\":\"#2a3f5f\",\"gridcolor\":\"white\",\"linecolor\":\"white\",\"minorgridcolor\":\"white\",\"startlinecolor\":\"#2a3f5f\"},\"baxis\":{\"endlinecolor\":\"#2a3f5f\",\"gridcolor\":\"white\",\"linecolor\":\"white\",\"minorgridcolor\":\"white\",\"startlinecolor\":\"#2a3f5f\"},\"type\":\"carpet\"}],\"table\":[{\"cells\":{\"fill\":{\"color\":\"#EBF0F8\"},\"line\":{\"color\":\"white\"}},\"header\":{\"fill\":{\"color\":\"#C8D4E3\"},\"line\":{\"color\":\"white\"}},\"type\":\"table\"}],\"barpolar\":[{\"marker\":{\"line\":{\"color\":\"#E5ECF6\",\"width\":0.5},\"pattern\":{\"fillmode\":\"overlay\",\"size\":10,\"solidity\":0.2}},\"type\":\"barpolar\"}],\"pie\":[{\"automargin\":true,\"type\":\"pie\"}]},\"layout\":{\"autotypenumbers\":\"strict\",\"colorway\":[\"#636efa\",\"#EF553B\",\"#00cc96\",\"#ab63fa\",\"#FFA15A\",\"#19d3f3\",\"#FF6692\",\"#B6E880\",\"#FF97FF\",\"#FECB52\"],\"font\":{\"color\":\"#2a3f5f\"},\"hovermode\":\"closest\",\"hoverlabel\":{\"align\":\"left\"},\"paper_bgcolor\":\"white\",\"plot_bgcolor\":\"#E5ECF6\",\"polar\":{\"bgcolor\":\"#E5ECF6\",\"angularaxis\":{\"gridcolor\":\"white\",\"linecolor\":\"white\",\"ticks\":\"\"},\"radialaxis\":{\"gridcolor\":\"white\",\"linecolor\":\"white\",\"ticks\":\"\"}},\"ternary\":{\"bgcolor\":\"#E5ECF6\",\"aaxis\":{\"gridcolor\":\"white\",\"linecolor\":\"white\",\"ticks\":\"\"},\"baxis\":{\"gridcolor\":\"white\",\"linecolor\":\"white\",\"ticks\":\"\"},\"caxis\":{\"gridcolor\":\"white\",\"linecolor\":\"white\",\"ticks\":\"\"}},\"coloraxis\":{\"colorbar\":{\"outlinewidth\":0,\"ticks\":\"\"}},\"colorscale\":{\"sequential\":[[0.0,\"#0d0887\"],[0.1111111111111111,\"#46039f\"],[0.2222222222222222,\"#7201a8\"],[0.3333333333333333,\"#9c179e\"],[0.4444444444444444,\"#bd3786\"],[0.5555555555555556,\"#d8576b\"],[0.6666666666666666,\"#ed7953\"],[0.7777777777777778,\"#fb9f3a\"],[0.8888888888888888,\"#fdca26\"],[1.0,\"#f0f921\"]],\"sequentialminus\":[[0.0,\"#0d0887\"],[0.1111111111111111,\"#46039f\"],[0.2222222222222222,\"#7201a8\"],[0.3333333333333333,\"#9c179e\"],[0.4444444444444444,\"#bd3786\"],[0.5555555555555556,\"#d8576b\"],[0.6666666666666666,\"#ed7953\"],[0.7777777777777778,\"#fb9f3a\"],[0.8888888888888888,\"#fdca26\"],[1.0,\"#f0f921\"]],\"diverging\":[[0,\"#8e0152\"],[0.1,\"#c51b7d\"],[0.2,\"#de77ae\"],[0.3,\"#f1b6da\"],[0.4,\"#fde0ef\"],[0.5,\"#f7f7f7\"],[0.6,\"#e6f5d0\"],[0.7,\"#b8e186\"],[0.8,\"#7fbc41\"],[0.9,\"#4d9221\"],[1,\"#276419\"]]},\"xaxis\":{\"gridcolor\":\"white\",\"linecolor\":\"white\",\"ticks\":\"\",\"title\":{\"standoff\":15},\"zerolinecolor\":\"white\",\"automargin\":true,\"zerolinewidth\":2},\"yaxis\":{\"gridcolor\":\"white\",\"linecolor\":\"white\",\"ticks\":\"\",\"title\":{\"standoff\":15},\"zerolinecolor\":\"white\",\"automargin\":true,\"zerolinewidth\":2},\"scene\":{\"xaxis\":{\"backgroundcolor\":\"#E5ECF6\",\"gridcolor\":\"white\",\"linecolor\":\"white\",\"showbackground\":true,\"ticks\":\"\",\"zerolinecolor\":\"white\",\"gridwidth\":2},\"yaxis\":{\"backgroundcolor\":\"#E5ECF6\",\"gridcolor\":\"white\",\"linecolor\":\"white\",\"showbackground\":true,\"ticks\":\"\",\"zerolinecolor\":\"white\",\"gridwidth\":2},\"zaxis\":{\"backgroundcolor\":\"#E5ECF6\",\"gridcolor\":\"white\",\"linecolor\":\"white\",\"showbackground\":true,\"ticks\":\"\",\"zerolinecolor\":\"white\",\"gridwidth\":2}},\"shapedefaults\":{\"line\":{\"color\":\"#2a3f5f\"}},\"annotationdefaults\":{\"arrowcolor\":\"#2a3f5f\",\"arrowhead\":0,\"arrowwidth\":1},\"geo\":{\"bgcolor\":\"white\",\"landcolor\":\"#E5ECF6\",\"subunitcolor\":\"white\",\"showland\":true,\"showlakes\":true,\"lakecolor\":\"white\"},\"title\":{\"x\":0.05},\"mapbox\":{\"style\":\"light\"}}},\"xaxis\":{\"anchor\":\"y\",\"domain\":[0.0,0.45],\"title\":{\"text\":\"Feasibility Score\"}},\"yaxis\":{\"anchor\":\"x\",\"domain\":[0.625,1.0],\"title\":{\"text\":\"Attractiveness Score\"}},\"xaxis2\":{\"anchor\":\"y2\",\"domain\":[0.55,1.0],\"title\":{\"text\":\"Investment Required ($)\"}},\"yaxis2\":{\"anchor\":\"x2\",\"domain\":[0.625,1.0],\"title\":{\"text\":\"Annual ROI (%)\"}},\"xaxis3\":{\"anchor\":\"y3\",\"domain\":[0.0,0.45],\"title\":{\"text\":\"Market Size (Billions $)\"}},\"yaxis3\":{\"anchor\":\"x3\",\"domain\":[0.0,0.375],\"title\":{\"text\":\"E-commerce Growth Rate\"}},\"xaxis4\":{\"anchor\":\"y4\",\"domain\":[0.55,1.0],\"title\":{\"text\":\"Priority Score\"}},\"yaxis4\":{\"anchor\":\"x4\",\"domain\":[0.0,0.375]},\"annotations\":[{\"font\":{\"size\":16},\"showarrow\":false,\"text\":\"Market Opportunity Matrix\",\"x\":0.225,\"xanchor\":\"center\",\"xref\":\"paper\",\"y\":1.0,\"yanchor\":\"bottom\",\"yref\":\"paper\"},{\"font\":{\"size\":16},\"showarrow\":false,\"text\":\"Investment vs ROI Analysis\",\"x\":0.775,\"xanchor\":\"center\",\"xref\":\"paper\",\"y\":1.0,\"yanchor\":\"bottom\",\"yref\":\"paper\"},{\"font\":{\"size\":16},\"showarrow\":false,\"text\":\"Market Size vs Growth Rate\",\"x\":0.225,\"xanchor\":\"center\",\"xref\":\"paper\",\"y\":0.375,\"yanchor\":\"bottom\",\"yref\":\"paper\"},{\"font\":{\"size\":16},\"showarrow\":false,\"text\":\"Expansion Timeline\",\"x\":0.775,\"xanchor\":\"center\",\"xref\":\"paper\",\"y\":0.375,\"yanchor\":\"bottom\",\"yref\":\"paper\"}],\"title\":{\"text\":\"\\ud83c\\udf0d Geographic Expansion Analysis Dashboard\",\"x\":0.5},\"height\":800,\"showlegend\":false},                        {\"responsive\": true}                    ).then(function(){\n",
       "                            \n",
       "var gd = document.getElementById('3e5db417-ad9f-44f6-a1d4-25e72160106c');\n",
       "var x = new MutationObserver(function (mutations, observer) {{\n",
       "        var display = window.getComputedStyle(gd).display;\n",
       "        if (!display || display === 'none') {{\n",
       "            console.log([gd, 'removed!']);\n",
       "            Plotly.purge(gd);\n",
       "            observer.disconnect();\n",
       "        }}\n",
       "}});\n",
       "\n",
       "// Listen for the removal of the full notebook cells\n",
       "var notebookContainer = gd.closest('#notebook-container');\n",
       "if (notebookContainer) {{\n",
       "    x.observe(notebookContainer, {childList: true});\n",
       "}}\n",
       "\n",
       "// Listen for the clearing of the current output cell\n",
       "var outputEl = gd.closest('.output');\n",
       "if (outputEl) {{\n",
       "    x.observe(outputEl, {childList: true});\n",
       "}}\n",
       "\n",
       "                        })                };                });            </script>        </div>"
      ]
     },
     "metadata": {},
     "output_type": "display_data"
    },
    {
     "name": "stdout",
     "output_type": "stream",
     "text": [
      "\n",
      "📋 Generating expansion analysis report...\n",
      "\n",
      "🎯 EXECUTIVE SUMMARY:\n",
      "  🏆 Top Market: Eastern Europe\n",
      "  💰 Investment: $705,000\n",
      "  📈 Expected ROI: 463%\n",
      "  📊 Total Market: $21M\n",
      "\n",
      "🎯 KEY INSIGHTS:\n",
      "  • 🎯 Eastern Europe offers the highest expansion potential with 463% ROI\n",
      "  • 💰 Total addressable market across all regions: $21M\n",
      "  • ⏰ Phased expansion over 5 years can generate 437% portfolio ROI\n",
      "  • 🏆 Competitive advantage through product quality differentiation\n",
      "\n",
      "💡 STRATEGIC RECOMMENDATIONS:\n",
      "  1. Begin immediate market research in Eastern Europe\n",
      "  2. Establish strategic partnerships to reduce entry barriers\n",
      "  3. Develop region-specific product offerings\n",
      "  4. Implement phased expansion to manage risk and capital\n",
      "  5. Create dedicated regional management structure\n",
      "\n",
      "✅ Geographic expansion analysis completed!\n",
      "📊 5 markets analyzed\n",
      "🗓️ 4 markets included in roadmap\n",
      "💰 Total investment opportunity: $3,861,250\n",
      "📈 Portfolio ROI potential: 437%\n"
     ]
    }
   ],
   "source": [
    "import pandas as pd\n",
    "import numpy as np\n",
    "import matplotlib.pyplot as plt\n",
    "import seaborn as sns\n",
    "import plotly.express as px\n",
    "import plotly.graph_objects as go\n",
    "from plotly.subplots import make_subplots\n",
    "from datetime import datetime, timedelta\n",
    "import warnings\n",
    "warnings.filterwarnings('ignore')\n",
    "\n",
    "print(\"🌍 GEOGRAPHIC EXPANSION ANALYSIS\")\n",
    "print(\"=\" * 60)\n",
    "\n",
    "class GeographicExpansionAnalyzer:\n",
    "    \"\"\"\n",
    "    Advanced geographic expansion analysis for e-commerce business\n",
    "    Identifies optimal markets for expansion based on data-driven insights\n",
    "    \"\"\"\n",
    "    \n",
    "    def __init__(self, transaction_data, customer_data):\n",
    "        self.data = transaction_data\n",
    "        self.customer_data = customer_data\n",
    "        self.expansion_opportunities = {}\n",
    "        \n",
    "    def analyze_current_markets(self):\n",
    "        \"\"\"Analyze performance of current geographic markets\"\"\"\n",
    "        \n",
    "        print(\"🔍 Analyzing current market performance...\")\n",
    "        \n",
    "        # Current market analysis\n",
    "        market_metrics = self.data.groupby('region').agg({\n",
    "            'total_amount': ['sum', 'mean', 'count'],\n",
    "            'customer_id': 'nunique',\n",
    "            'rating': 'mean',\n",
    "            'quantity': 'sum'\n",
    "        }).round(2)\n",
    "        \n",
    "        market_metrics.columns = ['total_revenue', 'avg_order_value', 'total_orders', \n",
    "                                 'unique_customers', 'avg_rating', 'total_items']\n",
    "        market_metrics = market_metrics.reset_index()\n",
    "        \n",
    "        # Calculate market penetration and efficiency metrics\n",
    "        market_metrics['revenue_per_customer'] = market_metrics['total_revenue'] / market_metrics['unique_customers']\n",
    "        market_metrics['orders_per_customer'] = market_metrics['total_orders'] / market_metrics['unique_customers']\n",
    "        market_metrics['market_share'] = market_metrics['total_revenue'] / market_metrics['total_revenue'].sum() * 100\n",
    "        \n",
    "        # Market maturity scoring\n",
    "        market_metrics['maturity_score'] = (\n",
    "            (market_metrics['revenue_per_customer'] / market_metrics['revenue_per_customer'].max()) * 0.4 +\n",
    "            (market_metrics['avg_rating'] / 5.0) * 0.3 +\n",
    "            (market_metrics['orders_per_customer'] / market_metrics['orders_per_customer'].max()) * 0.3\n",
    "        )\n",
    "        \n",
    "        print(f\"📊 Current Market Performance:\")\n",
    "        print(market_metrics.sort_values('total_revenue', ascending=False).to_string(index=False))\n",
    "        \n",
    "        return market_metrics\n",
    "    \n",
    "    def identify_expansion_opportunities(self):\n",
    "        \"\"\"Identify and score potential expansion markets\"\"\"\n",
    "        \n",
    "        print(\"\\n🎯 Identifying expansion opportunities...\")\n",
    "        \n",
    "        # Simulate potential markets with realistic data\n",
    "        potential_markets = {\n",
    "            'Southeast Asia': {\n",
    "                'population': 685000000,\n",
    "                'gdp_per_capita': 4500,\n",
    "                'internet_penetration': 0.73,\n",
    "                'ecommerce_growth_rate': 0.25,\n",
    "                'market_size_usd': 120000000000,\n",
    "                'competition_intensity': 0.7,\n",
    "                'logistics_score': 3.2,\n",
    "                'regulatory_ease': 0.6,\n",
    "                'cultural_similarity': 0.4,\n",
    "                'language_barrier': 0.8\n",
    "            },\n",
    "            'Latin America': {\n",
    "                'population': 650000000,\n",
    "                'gdp_per_capita': 8500,\n",
    "                'internet_penetration': 0.68,\n",
    "                'ecommerce_growth_rate': 0.22,\n",
    "                'market_size_usd': 95000000000,\n",
    "                'competition_intensity': 0.6,\n",
    "                'logistics_score': 3.0,\n",
    "                'regulatory_ease': 0.5,\n",
    "                'cultural_similarity': 0.3,\n",
    "                'language_barrier': 0.9\n",
    "            },\n",
    "            'Eastern Europe': {\n",
    "                'population': 295000000,\n",
    "                'gdp_per_capita': 12000,\n",
    "                'internet_penetration': 0.82,\n",
    "                'ecommerce_growth_rate': 0.18,\n",
    "                'market_size_usd': 65000000000,\n",
    "                'competition_intensity': 0.5,\n",
    "                'logistics_score': 3.8,\n",
    "                'regulatory_ease': 0.7,\n",
    "                'cultural_similarity': 0.6,\n",
    "                'language_barrier': 0.7\n",
    "            },\n",
    "            'Middle East': {\n",
    "                'population': 411000000,\n",
    "                'gdp_per_capita': 15000,\n",
    "                'internet_penetration': 0.71,\n",
    "                'ecommerce_growth_rate': 0.28,\n",
    "                'market_size_usd': 45000000000,\n",
    "                'competition_intensity': 0.4,\n",
    "                'logistics_score': 3.5,\n",
    "                'regulatory_ease': 0.4,\n",
    "                'cultural_similarity': 0.2,\n",
    "                'language_barrier': 0.9\n",
    "            },\n",
    "            'Africa': {\n",
    "                'population': 1340000000,\n",
    "                'gdp_per_capita': 2200,\n",
    "                'internet_penetration': 0.43,\n",
    "                'ecommerce_growth_rate': 0.35,\n",
    "                'market_size_usd': 35000000000,\n",
    "                'competition_intensity': 0.3,\n",
    "                'logistics_score': 2.5,\n",
    "                'regulatory_ease': 0.3,\n",
    "                'cultural_similarity': 0.1,\n",
    "                'language_barrier': 0.95\n",
    "            }\n",
    "        }\n",
    "        \n",
    "        # Calculate expansion scores\n",
    "        expansion_analysis = []\n",
    "        \n",
    "        for market, data in potential_markets.items():\n",
    "            # Market attractiveness score\n",
    "            market_size_score = min(data['market_size_usd'] / 100000000000, 1.0)  # Normalize to 1\n",
    "            growth_score = min(data['ecommerce_growth_rate'], 0.4) / 0.4  # Max 40% growth\n",
    "            penetration_score = data['internet_penetration']\n",
    "            gdp_score = min(data['gdp_per_capita'] / 20000, 1.0)  # Normalize to $20k\n",
    "            \n",
    "            attractiveness = (market_size_score * 0.3 + growth_score * 0.3 + \n",
    "                            penetration_score * 0.25 + gdp_score * 0.15)\n",
    "            \n",
    "            # Market feasibility score\n",
    "            competition_score = 1 - data['competition_intensity']  # Lower competition = higher score\n",
    "            logistics_score = data['logistics_score'] / 5.0  # Max score 5\n",
    "            regulatory_score = data['regulatory_ease']\n",
    "            cultural_score = data['cultural_similarity']\n",
    "            language_score = 1 - data['language_barrier']  # Lower barrier = higher score\n",
    "            \n",
    "            feasibility = (competition_score * 0.25 + logistics_score * 0.25 +\n",
    "                          regulatory_score * 0.2 + cultural_score * 0.15 + language_score * 0.15)\n",
    "            \n",
    "            # Overall expansion score\n",
    "            overall_score = (attractiveness * 0.6 + feasibility * 0.4)\n",
    "            \n",
    "            # Estimate investment required and potential ROI\n",
    "            base_investment = 500000  # Base investment of $500K\n",
    "            complexity_multiplier = 1 + (1 - feasibility)  # Higher complexity = higher investment\n",
    "            estimated_investment = base_investment * complexity_multiplier\n",
    "            \n",
    "            # Potential revenue (based on market size and our assumed capture rate)\n",
    "            market_capture_rate = 0.0001 * overall_score  # Higher score = better capture\n",
    "            potential_annual_revenue = data['market_size_usd'] * market_capture_rate\n",
    "            \n",
    "            # ROI calculation (simplified)\n",
    "            annual_roi = (potential_annual_revenue - estimated_investment) / estimated_investment * 100\n",
    "            \n",
    "            expansion_analysis.append({\n",
    "                'market': market,\n",
    "                'attractiveness_score': attractiveness,\n",
    "                'feasibility_score': feasibility,\n",
    "                'overall_score': overall_score,\n",
    "                'estimated_investment': estimated_investment,\n",
    "                'potential_annual_revenue': potential_annual_revenue,\n",
    "                'annual_roi': annual_roi,\n",
    "                'market_size_billion': data['market_size_usd'] / 1000000000,\n",
    "                'ecommerce_growth_rate': data['ecommerce_growth_rate'],\n",
    "                'population_million': data['population'] / 1000000,\n",
    "                'recommendation': self._get_expansion_recommendation(overall_score, annual_roi)\n",
    "            })\n",
    "        \n",
    "        expansion_df = pd.DataFrame(expansion_analysis)\n",
    "        expansion_df = expansion_df.sort_values('overall_score', ascending=False)\n",
    "        \n",
    "        print(f\"\\n🎯 EXPANSION OPPORTUNITY RANKING:\")\n",
    "        display_columns = ['market', 'overall_score', 'attractiveness_score', 'feasibility_score', \n",
    "                          'estimated_investment', 'potential_annual_revenue', 'annual_roi', 'recommendation']\n",
    "        print(expansion_df[display_columns].to_string(index=False))\n",
    "        \n",
    "        return expansion_df\n",
    "    \n",
    "    def _get_expansion_recommendation(self, score, roi):\n",
    "        \"\"\"Generate expansion recommendation based on scoring\"\"\"\n",
    "        if score >= 0.7 and roi >= 50:\n",
    "            return \"High Priority - Immediate Expansion\"\n",
    "        elif score >= 0.6 and roi >= 25:\n",
    "            return \"Medium Priority - Consider Expansion\"\n",
    "        elif score >= 0.5:\n",
    "            return \"Low Priority - Monitor Market\"\n",
    "        else:\n",
    "            return \"Not Recommended - High Risk\"\n",
    "    \n",
    "    def create_expansion_roadmap(self, expansion_df):\n",
    "        \"\"\"Create detailed expansion roadmap with timelines\"\"\"\n",
    "        \n",
    "        print(\"\\n🗓️ Creating expansion roadmap...\")\n",
    "        \n",
    "        # Filter markets worth pursuing\n",
    "        viable_markets = expansion_df[expansion_df['overall_score'] >= 0.5].copy()\n",
    "        \n",
    "        roadmap = []\n",
    "        current_date = datetime.now()\n",
    "        \n",
    "        for i, (_, market) in enumerate(viable_markets.iterrows()):\n",
    "            # Timeline based on priority and complexity\n",
    "            if market['recommendation'] == \"High Priority - Immediate Expansion\":\n",
    "                start_months = 3 + (i * 6)  # Start after 3, 9, 15 months etc.\n",
    "                duration_months = 12\n",
    "            elif market['recommendation'] == \"Medium Priority - Consider Expansion\":\n",
    "                start_months = 12 + (i * 6)\n",
    "                duration_months = 18\n",
    "            else:\n",
    "                start_months = 24 + (i * 6)\n",
    "                duration_months = 24\n",
    "            \n",
    "            start_date = current_date + timedelta(days=start_months * 30)\n",
    "            end_date = start_date + timedelta(days=duration_months * 30)\n",
    "            \n",
    "            roadmap.append({\n",
    "                'market': market['market'],\n",
    "                'priority': market['recommendation'],\n",
    "                'start_date': start_date.strftime('%Y-%m'),\n",
    "                'duration_months': duration_months,\n",
    "                'investment_required': market['estimated_investment'],\n",
    "                'expected_roi': market['annual_roi'],\n",
    "                'key_challenges': self._identify_challenges(market),\n",
    "                'success_metrics': self._define_success_metrics(market)\n",
    "            })\n",
    "        \n",
    "        roadmap_df = pd.DataFrame(roadmap)\n",
    "        \n",
    "        print(f\"\\n📋 EXPANSION ROADMAP:\")\n",
    "        print(roadmap_df.to_string(index=False))\n",
    "        \n",
    "        return roadmap_df\n",
    "    \n",
    "    def _identify_challenges(self, market_data):\n",
    "        \"\"\"Identify key challenges for each market\"\"\"\n",
    "        challenges = []\n",
    "        \n",
    "        if market_data['feasibility_score'] < 0.6:\n",
    "            challenges.append(\"Operational complexity\")\n",
    "        if market_data['estimated_investment'] > 750000:\n",
    "            challenges.append(\"High capital requirement\")\n",
    "        if market_data['annual_roi'] < 30:\n",
    "            challenges.append(\"Lower profitability\")\n",
    "        \n",
    "        return \"; \".join(challenges) if challenges else \"Standard market entry challenges\"\n",
    "    \n",
    "    def _define_success_metrics(self, market_data):\n",
    "        \"\"\"Define success metrics for each market\"\"\"\n",
    "        target_revenue = market_data['potential_annual_revenue'] * 0.5  # 50% of potential in first year\n",
    "        target_customers = int(target_revenue / 50)  # Assume $50 average order\n",
    "        \n",
    "        return f\"Year 1: ${target_revenue/1000000:.1f}M revenue, {target_customers:,} customers\"\n",
    "    \n",
    "    def competitive_analysis(self, expansion_df):\n",
    "        \"\"\"Analyze competitive landscape in target markets\"\"\"\n",
    "        \n",
    "        print(\"\\n🏆 Competitive landscape analysis...\")\n",
    "        \n",
    "        # Simulate competitive data\n",
    "        competitive_data = []\n",
    "        \n",
    "        for _, market in expansion_df.iterrows():\n",
    "            market_name = market['market']\n",
    "            \n",
    "            # Simulate competitor presence\n",
    "            if market_name == 'Southeast Asia':\n",
    "                competitors = ['Shopee', 'Lazada', 'Tokopedia', 'Local Players']\n",
    "                market_leaders = ['Shopee (35%)', 'Lazada (25%)']\n",
    "            elif market_name == 'Latin America':\n",
    "                competitors = ['MercadoLibre', 'Amazon', 'Local Players']\n",
    "                market_leaders = ['MercadoLibre (45%)', 'Amazon (20%)']\n",
    "            elif market_name == 'Eastern Europe':\n",
    "                competitors = ['Allegro', 'eMAG', 'Amazon', 'Local Players']\n",
    "                market_leaders = ['Allegro (30%)', 'Amazon (25%)']\n",
    "            elif market_name == 'Middle East':\n",
    "                competitors = ['Noon', 'Amazon', 'Souq', 'Local Players']\n",
    "                market_leaders = ['Noon (25%)', 'Amazon (30%)']\n",
    "            else:  # Africa\n",
    "                competitors = ['Jumia', 'Konga', 'Local Players']\n",
    "                market_leaders = ['Jumia (40%)', 'Local Players (35%)']\n",
    "            \n",
    "            competitive_data.append({\n",
    "                'market': market_name,\n",
    "                'major_competitors': len(competitors),\n",
    "                'market_leaders': '; '.join(market_leaders),\n",
    "                'competitive_intensity': 'High' if len(competitors) > 3 else 'Medium',\n",
    "                'differentiation_opportunity': 'Customer Service' if market_name in ['Africa', 'Middle East'] else 'Product Quality',\n",
    "                'entry_strategy': self._recommend_entry_strategy(market_name, len(competitors))\n",
    "            })\n",
    "        \n",
    "        competitive_df = pd.DataFrame(competitive_data)\n",
    "        \n",
    "        print(f\"\\n🎯 COMPETITIVE ANALYSIS:\")\n",
    "        print(competitive_df.to_string(index=False))\n",
    "        \n",
    "        return competitive_df\n",
    "    \n",
    "    def _recommend_entry_strategy(self, market, competitor_count):\n",
    "        \"\"\"Recommend market entry strategy based on competition\"\"\"\n",
    "        if competitor_count > 3:\n",
    "            return \"Niche focus + Partnership\"\n",
    "        elif competitor_count > 2:\n",
    "            return \"Direct competition + Differentiation\"\n",
    "        else:\n",
    "            return \"Market leadership + Fast scaling\"\n",
    "    \n",
    "    def create_expansion_visualizations(self, expansion_df):\n",
    "        \"\"\"Create comprehensive visualizations for expansion analysis\"\"\"\n",
    "        \n",
    "        print(\"\\n📊 Creating expansion analysis visualizations...\")\n",
    "        \n",
    "        fig = make_subplots(\n",
    "            rows=2, cols=2,\n",
    "            subplot_titles=[\n",
    "                'Market Opportunity Matrix',\n",
    "                'Investment vs ROI Analysis', \n",
    "                'Market Size vs Growth Rate',\n",
    "                'Expansion Timeline'\n",
    "            ],\n",
    "            specs=[[{\"type\": \"scatter\"}, {\"type\": \"scatter\"}],\n",
    "                   [{\"type\": \"scatter\"}, {\"type\": \"bar\"}]]\n",
    "        )\n",
    "        \n",
    "        # 1. Market Opportunity Matrix\n",
    "        fig.add_trace(\n",
    "            go.Scatter(\n",
    "                x=expansion_df['feasibility_score'],\n",
    "                y=expansion_df['attractiveness_score'],\n",
    "                mode='markers+text',\n",
    "                text=expansion_df['market'],\n",
    "                textposition=\"top center\",\n",
    "                marker=dict(\n",
    "                    size=expansion_df['overall_score'] * 50,\n",
    "                    color=expansion_df['annual_roi'],\n",
    "                    colorscale='Viridis',\n",
    "                    showscale=True,\n",
    "                    colorbar=dict(title=\"Annual ROI %\")\n",
    "                ),\n",
    "                name='Markets',\n",
    "                hovertemplate='<b>%{text}</b><br>' +\n",
    "                            'Feasibility: %{x:.2f}<br>' +\n",
    "                            'Attractiveness: %{y:.2f}<br>' +\n",
    "                            'ROI: %{marker.color:.1f}%<extra></extra>'\n",
    "            ),\n",
    "            row=1, col=1\n",
    "        )\n",
    "        \n",
    "        # 2. Investment vs ROI\n",
    "        fig.add_trace(\n",
    "            go.Scatter(\n",
    "                x=expansion_df['estimated_investment'],\n",
    "                y=expansion_df['annual_roi'],\n",
    "                mode='markers+text',\n",
    "                text=expansion_df['market'],\n",
    "                textposition=\"top center\",\n",
    "                marker=dict(\n",
    "                    size=15,\n",
    "                    color='red',\n",
    "                    opacity=0.7\n",
    "                ),\n",
    "                name='Investment Analysis',\n",
    "                hovertemplate='<b>%{text}</b><br>' +\n",
    "                            'Investment: $%{x:,.0f}<br>' +\n",
    "                            'Annual ROI: %{y:.1f}%<extra></extra>'\n",
    "            ),\n",
    "            row=1, col=2\n",
    "        )\n",
    "        \n",
    "        # 3. Market Size vs Growth Rate\n",
    "        fig.add_trace(\n",
    "            go.Scatter(\n",
    "                x=expansion_df['market_size_billion'],\n",
    "                y=expansion_df['ecommerce_growth_rate'],\n",
    "                mode='markers+text',\n",
    "                text=expansion_df['market'],\n",
    "                textposition=\"top center\",\n",
    "                marker=dict(\n",
    "                    size=expansion_df['population_million'] / 50,\n",
    "                    color='blue',\n",
    "                    opacity=0.6\n",
    "                ),\n",
    "                name='Market Dynamics',\n",
    "                hovertemplate='<b>%{text}</b><br>' +\n",
    "                            'Market Size: $%{x:.0f}B<br>' +\n",
    "                            'Growth Rate: %{y:.1%}<br>' +\n",
    "                            'Population: %{marker.size}M<extra></extra>'\n",
    "            ),\n",
    "            row=2, col=1\n",
    "        )\n",
    "        \n",
    "        # 4. Expansion Priority Timeline\n",
    "        priority_order = expansion_df.sort_values('overall_score', ascending=True)\n",
    "        fig.add_trace(\n",
    "            go.Bar(\n",
    "                y=priority_order['market'],\n",
    "                x=priority_order['overall_score'],\n",
    "                orientation='h',\n",
    "                marker_color=priority_order['overall_score'],\n",
    "                marker_colorscale='RdYlGn',\n",
    "                name='Priority Score',\n",
    "                hovertemplate='<b>%{y}</b><br>' +\n",
    "                            'Priority Score: %{x:.2f}<extra></extra>'\n",
    "            ),\n",
    "            row=2, col=2\n",
    "        )\n",
    "        \n",
    "        # Update layout\n",
    "        fig.update_layout(\n",
    "            title_text=\"🌍 Geographic Expansion Analysis Dashboard\",\n",
    "            title_x=0.5,\n",
    "            height=800,\n",
    "            showlegend=False\n",
    "        )\n",
    "        \n",
    "        # Update axes labels\n",
    "        fig.update_xaxes(title_text=\"Feasibility Score\", row=1, col=1)\n",
    "        fig.update_yaxes(title_text=\"Attractiveness Score\", row=1, col=1)\n",
    "        fig.update_xaxes(title_text=\"Investment Required ($)\", row=1, col=2)\n",
    "        fig.update_yaxes(title_text=\"Annual ROI (%)\", row=1, col=2)\n",
    "        fig.update_xaxes(title_text=\"Market Size (Billions $)\", row=2, col=1)\n",
    "        fig.update_yaxes(title_text=\"E-commerce Growth Rate\", row=2, col=1)\n",
    "        fig.update_xaxes(title_text=\"Priority Score\", row=2, col=2)\n",
    "        \n",
    "        fig.show()\n",
    "        \n",
    "        return fig\n",
    "    \n",
    "    def generate_expansion_report(self, expansion_df, roadmap_df, competitive_df):\n",
    "        \"\"\"Generate comprehensive expansion analysis report\"\"\"\n",
    "        \n",
    "        print(\"\\n📋 Generating expansion analysis report...\")\n",
    "        \n",
    "        # Top recommendations\n",
    "        top_market = expansion_df.iloc[0]\n",
    "        \n",
    "        # Calculate portfolio ROI first\n",
    "        total_investment = expansion_df['estimated_investment'].sum()\n",
    "        total_revenue = expansion_df['potential_annual_revenue'].sum()\n",
    "        portfolio_roi = (total_revenue - total_investment) / total_investment * 100\n",
    "        \n",
    "        report = {\n",
    "            'executive_summary': {\n",
    "                'top_recommendation': top_market['market'],\n",
    "                'investment_required': top_market['estimated_investment'],\n",
    "                'expected_roi': top_market['annual_roi'],\n",
    "                'timeline': '12-18 months',\n",
    "                'total_addressable_market': expansion_df['potential_annual_revenue'].sum()\n",
    "            },\n",
    "            'market_priorities': {\n",
    "                'tier_1_markets': expansion_df[expansion_df['overall_score'] >= 0.7]['market'].tolist(),\n",
    "                'tier_2_markets': expansion_df[(expansion_df['overall_score'] >= 0.6) & \n",
    "                                             (expansion_df['overall_score'] < 0.7)]['market'].tolist(),\n",
    "                'tier_3_markets': expansion_df[(expansion_df['overall_score'] >= 0.5) & \n",
    "                                             (expansion_df['overall_score'] < 0.6)]['market'].tolist()\n",
    "            },\n",
    "            'investment_summary': {\n",
    "                'total_investment_5_years': total_investment,\n",
    "                'expected_total_revenue': total_revenue,\n",
    "                'portfolio_roi': portfolio_roi\n",
    "            }\n",
    "        }\n",
    "        \n",
    "        # Now create key insights using calculated values\n",
    "        report['key_insights'] = [\n",
    "            f\"🎯 {top_market['market']} offers the highest expansion potential with {top_market['annual_roi']:.0f}% ROI\",\n",
    "            f\"💰 Total addressable market across all regions: ${expansion_df['potential_annual_revenue'].sum()/1000000:.0f}M\",\n",
    "            f\"⏰ Phased expansion over 5 years can generate {portfolio_roi:.0f}% portfolio ROI\",\n",
    "            f\"🏆 Competitive advantage through {competitive_df.iloc[0]['differentiation_opportunity'].lower()} differentiation\"\n",
    "        ]\n",
    "        \n",
    "        report['recommendations'] = [\n",
    "            f\"Begin immediate market research in {top_market['market']}\",\n",
    "            \"Establish strategic partnerships to reduce entry barriers\",\n",
    "            \"Develop region-specific product offerings\",\n",
    "            \"Implement phased expansion to manage risk and capital\",\n",
    "            \"Create dedicated regional management structure\"\n",
    "        ]\n",
    "        \n",
    "        print(f\"\\n🎯 EXECUTIVE SUMMARY:\")\n",
    "        print(f\"  🏆 Top Market: {report['executive_summary']['top_recommendation']}\")\n",
    "        print(f\"  💰 Investment: ${report['executive_summary']['investment_required']:,.0f}\")\n",
    "        print(f\"  📈 Expected ROI: {report['executive_summary']['expected_roi']:.0f}%\")\n",
    "        print(f\"  📊 Total Market: ${report['executive_summary']['total_addressable_market']/1000000:.0f}M\")\n",
    "        \n",
    "        print(f\"\\n🎯 KEY INSIGHTS:\")\n",
    "        for insight in report['key_insights']:\n",
    "            print(f\"  • {insight}\")\n",
    "        \n",
    "        print(f\"\\n💡 STRATEGIC RECOMMENDATIONS:\")\n",
    "        for i, rec in enumerate(report['recommendations'], 1):\n",
    "            print(f\"  {i}. {rec}\")\n",
    "        \n",
    "        return report\n",
    "\n",
    "# Create sample data for demonstration\n",
    "def create_sample_data():\n",
    "    \"\"\"Create sample e-commerce data for geographic analysis\"\"\"\n",
    "    np.random.seed(42)\n",
    "    \n",
    "    # Create transaction data with geographic information\n",
    "    n_transactions = 10000\n",
    "    \n",
    "    regions = ['North America', 'Europe', 'Asia', 'Others']\n",
    "    region_weights = [0.40, 0.30, 0.25, 0.05]  # Current market presence\n",
    "    \n",
    "    data = {\n",
    "        'transaction_id': range(1, n_transactions + 1),\n",
    "        'customer_id': np.random.randint(1, 2500, n_transactions),\n",
    "        'date': pd.date_range(start='2024-01-01', periods=n_transactions, freq='2H'),\n",
    "        'region': np.random.choice(regions, n_transactions, p=region_weights),\n",
    "        'category': np.random.choice(['Electronics', 'Clothing', 'Books', 'Home', 'Sports'], n_transactions),\n",
    "        'total_amount': np.random.lognormal(3, 0.5, n_transactions),\n",
    "        'rating': np.random.choice([1, 2, 3, 4, 5], n_transactions, p=[0.05, 0.1, 0.2, 0.4, 0.25]),\n",
    "        'quantity': np.random.choice([1, 2, 3, 4], n_transactions, p=[0.6, 0.25, 0.1, 0.05])\n",
    "    }\n",
    "    \n",
    "    df = pd.DataFrame(data)\n",
    "    \n",
    "    # Create customer data\n",
    "    customer_data = pd.DataFrame({\n",
    "        'customer_id': range(1, 2501),\n",
    "        'region': np.random.choice(regions, 2500, p=region_weights),\n",
    "        'acquisition_date': pd.date_range(start='2023-01-01', periods=2500, freq='3H'),\n",
    "        'customer_lifetime_value': np.random.lognormal(4, 0.6, 2500)\n",
    "    })\n",
    "    \n",
    "    return df, customer_data\n",
    "\n",
    "# Run the analysis\n",
    "if __name__ == \"__main__\":\n",
    "    # Initialize analysis\n",
    "    print(\"📊 Loading sample data...\")\n",
    "    transaction_data, customer_data = create_sample_data()\n",
    "\n",
    "    print(f\"✅ Data loaded: {len(transaction_data)} transactions, {len(customer_data)} customers\")\n",
    "\n",
    "    # Initialize analyzer\n",
    "    analyzer = GeographicExpansionAnalyzer(transaction_data, customer_data)\n",
    "\n",
    "    # Run complete analysis\n",
    "    print(\"\\n🚀 Starting geographic expansion analysis...\")\n",
    "\n",
    "    # 1. Analyze current markets\n",
    "    current_markets = analyzer.analyze_current_markets()\n",
    "\n",
    "    # 2. Identify expansion opportunities\n",
    "    expansion_opportunities = analyzer.identify_expansion_opportunities()\n",
    "\n",
    "    # 3. Create expansion roadmap\n",
    "    expansion_roadmap = analyzer.create_expansion_roadmap(expansion_opportunities)\n",
    "\n",
    "    # 4. Competitive analysis\n",
    "    competitive_analysis = analyzer.competitive_analysis(expansion_opportunities)\n",
    "\n",
    "    # 5. Create visualizations\n",
    "    expansion_viz = analyzer.create_expansion_visualizations(expansion_opportunities)\n",
    "\n",
    "    # 6. Generate final report\n",
    "    final_report = analyzer.generate_expansion_report(\n",
    "        expansion_opportunities, expansion_roadmap, competitive_analysis\n",
    "    )\n",
    "\n",
    "    print(f\"\\n✅ Geographic expansion analysis completed!\")\n",
    "    print(f\"📊 {len(expansion_opportunities)} markets analyzed\")\n",
    "    print(f\"🗓️ {len(expansion_roadmap)} markets included in roadmap\")\n",
    "    print(f\"💰 Total investment opportunity: ${expansion_opportunities['estimated_investment'].sum():,.0f}\")\n",
    "    print(f\"📈 Portfolio ROI potential: {final_report['investment_summary']['portfolio_roi']:.0f}%\")"
   ]
  },
  {
   "cell_type": "code",
   "execution_count": null,
   "id": "65a1928c-634d-4762-90c9-4dc4fced33d6",
   "metadata": {},
   "outputs": [],
   "source": []
  }
 ],
 "metadata": {
  "kernelspec": {
   "display_name": "Python [conda env:base] *",
   "language": "python",
   "name": "conda-base-py"
  },
  "language_info": {
   "codemirror_mode": {
    "name": "ipython",
    "version": 3
   },
   "file_extension": ".py",
   "mimetype": "text/x-python",
   "name": "python",
   "nbconvert_exporter": "python",
   "pygments_lexer": "ipython3",
   "version": "3.13.5"
  }
 },
 "nbformat": 4,
 "nbformat_minor": 5
}
